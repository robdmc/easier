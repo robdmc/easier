# import holoviews as hv
# import easier as ezr


from ibis.expr import schema as sch


sch.infer(























print(ezr.DuckModel.example)



import easier as ezr
# Create a "small statistics" proportion with win = 60%
ps = ezr.Proportion(3, 5, name='small')

# Create a "large statistics proportion
# that is "worse" than the small one with win = 50%
pb = ezr.Proportion(500, 1000, name='big')

# We can set how to compare the distibutions
# Setting this to None (the default) will use
# the distribution means for comparison.  Setting
# it to some value in range (0, 1) will compare
# that percentile.
ps.set_default_global_comparison_quantile(.05)

# Print how much better the mean of one proportion is than the other
ps.set_default_global_comparison_quantile(None)
print(f'Big is {pb - ps:0.2f} better than small based on mean')

# Print how much better a quantile of one dist is than the other
ps.set_default_global_comparison_quantile(.05)
print(f'Big is {pb - ps:0.2f} better than small based on q=.05')

# All comparison operators are defined
print('big<small', pb < ps)
print('big<=small', pb <= ps)
print()
print('big>small', pb > ps)
print('big>=small', pb >= ps)
print()
print('big==small', pb == ps)
print(sorted([ps, pb]))

# I can plot the distributions on top of each other
display(ps.plot() * pb.plot())

# I can plot the probability that one proportion is
# greater than the other
display(pb.plot_prob_better_curve(ps))





















from scipy import stats
import numpy as np
import holoviews as hv
# hv.extension('bokeh')


# %opts Curve Hi [width=800, height=400]


dist= stats.beta(2 + 1, 1 + 1)


dist.ppf(.05)


x = np.linspace(.001, 1 - .001, 300)
y = dist.ppf(x)


hv.Curve((x, y), label='one') * hv.Curve((x, -y), label='two')


val = {None, None}# - {None}
val


repr(val.pop())



